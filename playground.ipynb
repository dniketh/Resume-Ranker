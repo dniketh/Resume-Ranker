{
 "cells": [
  {
   "cell_type": "code",
   "execution_count": null,
   "metadata": {},
   "outputs": [],
   "source": [
    "from src.ResumeReader import ResumeReader\n",
    "from pdfminer import high_level\n",
    "\n",
    "path = 'data'\n",
    "algo = high_level\n",
    "vectorizer = ''\n",
    "\n",
    "res_reader = ResumeReader(path, vectorizer, algo)\n",
    "res_reader.get_texts()"
   ]
  },
  {
   "cell_type": "code",
   "execution_count": null,
   "metadata": {},
   "outputs": [],
   "source": [
    "from src.JobReader import JobReader\n",
    "import json \n",
    "\n",
    "file_path = 'data\\jobDescription.json'\n",
    "\n",
    "job_reader = JobReader()\n",
    "\n",
    "with open(file_path, 'r') as file:\n",
    "    data = json.load(file)\n",
    "\n",
    "for job in data['job_description']:\n",
    "    job_reader.read(job['content'])"
   ]
  },
  {
   "cell_type": "code",
   "execution_count": null,
   "metadata": {},
   "outputs": [],
   "source": [
    "from src.VectorRanker import VectorRanker\n",
    "\n",
    "\n",
    "\n",
    "job = job_reader.jobs[0]\n",
    "resume_list = list(zip(res_reader.resumeName, res_reader.resumesContent))\n",
    "\n",
    "ranker = VectorRanker(job, resume_list)\n",
    "ranker.vectorize()\n",
    "ranker.rank()\n",
    "ranker.get_t1_resume()"
   ]
  },
  {
   "cell_type": "code",
   "execution_count": null,
   "metadata": {},
   "outputs": [],
   "source": [
    "ranker.sorted_indices"
   ]
  },
  {
   "cell_type": "code",
   "execution_count": null,
   "metadata": {},
   "outputs": [],
   "source": [
    "list(zip(res_reader.resumeName, res_reader.resumesContent))[0][0]"
   ]
  }
 ],
 "metadata": {
  "kernelspec": {
   "display_name": ".venv",
   "language": "python",
   "name": "python3"
  },
  "language_info": {
   "codemirror_mode": {
    "name": "ipython",
    "version": 3
   },
   "file_extension": ".py",
   "mimetype": "text/x-python",
   "name": "python",
   "nbconvert_exporter": "python",
   "pygments_lexer": "ipython3",
   "version": "3.12.5"
  }
 },
 "nbformat": 4,
 "nbformat_minor": 2
}
