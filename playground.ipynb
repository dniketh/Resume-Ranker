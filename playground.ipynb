{
 "cells": [
  {
   "cell_type": "code",
   "execution_count": 1,
   "metadata": {},
   "outputs": [
    {
     "data": {
      "text/plain": [
       "['Nghia T. Nguyen  \\nntnghia.andrei@gmail.com ❖ ( +61) 451-357-872 ❖ Glebe NSW 2037 \\nPROFESSIONAL SUMMARY \\n\\nEnthusiastic and result-oriented Engineer with experience in implementation of Artificial Intelligence, software \\ndevelopment, natural language processing and expertise in computer vision and image retrieval. Currently pursuing a \\nMaster of Data Science and Innovation at the University of Technology Sydney. \\nWORK EXPERIENCE  \\n\\nTMA Solutions \\nData Scientist \\n▪  Developer: \\n\\n      February 2022 – December 2023 \\n                      Ho Chi Minh City \\n\\no  Large Scale Trademark Retrieval: Developed a neural network for large scale trademark retrieval. \\no  CAD Software Plugins: Wrote Python and C# plugins for Fusion 360 and Rhinoceros 3D. \\no  Layout Generation: Implemented a layout generation workflow for an enterprise-grade digital marking \\n\\nsolution. \\n\\n▪  Researcher: \\n\\no  Class-Activation Mapping (CAM) for image localization. \\no  Large scale Image retrieval using Vector of Aggregated Local Descriptors (VLADs) and NetVLAD. \\no  3D reconstruction using Hierarchical Localization. \\n\\n▪  Mentor / Communicator: \\n\\no  Mentor various interns and junior engineers. \\no  Communicate with client on technical feasibility. \\n\\nTMA Solutions \\n June 2021 – September 2021 \\n           Remote Internship \\nIntern    \\n▪  Participated as a developer(contractor) in a project – Livestock Counting and Tracking using modular cameras. \\n▪  Passed TMA Solutions’ training course with flying colors. \\nVietnam National Space Center \\nIntern \\nPotentially Dangerous Asteroid Classification from JPL Small-Body Database. \\nEDUCATION  \\n\\n           April 2021 – May 2021 \\n                                    Ha Noi \\n\\n   September 2017 - November 2022  \\n          Ho Chi Minh City \\n\\nInternational University – Vietnam National University    \\nBachelor of Engineering, Space Engineering (Physics Department) \\n▪  Various encouragement scholarships. \\n▪  GPA: 3.6/4.0 \\n▪  Worked as teaching assistant in various subjects: Physics, Calculus, Linear Algebra and Programming. \\nUniversity of Technology Sydney \\nMaster of Data Science and Innovation \\n▪  Postgraduate Academic Excellence International Scholarship \\n▪  Current GPA: 7.0/7.0 \\nPUBLICATION, SKILLS & CERTIFICATE \\n▪  Publication: Presented at the 9th NAFOSTED Conference on Information and Computer Science. \\n\\n                                                                                February 2024 - Present  \\n                                                              Sydney \\n\\no  A BERT-Based Model for Cloud Filling from Remote Sensing Data.   \\n\\n▪  Skills:  \\n\\no  Soft Skills: Communication, Teamwork, Leadership, Mentorship and Agile Development. \\no  Technical Skills: Python, C#, C/C++, Design Pattern, Computer Vision, and Natural Language Processing. \\n\\n▪  Certificate: \\n\\no  IELTS: 7.5 (Read 9 – Listening 8.5 – Writing 6.5 – Speaking 6.5) \\no  GRE: Verb 164 – Quant 167 – Writing 3.5 \\n\\n \\n \\n \\n \\n \\n \\n \\n \\n \\n \\n \\n \\n \\n \\n \\n \\n \\n \\n \\n \\n \\n \\n \\n \\n \\n \\n \\n \\n \\n \\n \\n \\n \\n \\n \\n \\n      \\n \\n \\n \\n \\n \\n \\n \\n \\n \\n \\n \\n \\n \\n \\n \\n \\n \\n \\n \\n \\n \\n \\n \\n \\n \\n \\n \\n\\x0c',\n",
       " 'Nghia T. Nguyen  \\nntnghia.andrei@gmail.com ❖ ( +61) 451-357-872 ❖ Glebe NSW 2037 \\nPROFESSIONAL SUMMARY \\n\\nHighly motivated and detail-oriented individual with strong communication and teamwork skills. \\nExperienced in working in fast-paced environments, ensuring excellent customer service and \\nefficient operations. Currently pursuing a Master of Data Science and Innovation at the University \\nof Technology Sydney. \\nWORK EXPERIENCE  \\n\\nTMA Solutions \\nData Scientist   \\n▪  Collaborated with teams to ensure project success, demonstrating strong teamwork and \\n\\n       February 2022 – December 2023 \\n               Ho Chi Minh City \\n\\ncommunication skills. \\n\\n▪  Mentored junior team members, enhancing leadership abilities and the ability to work well with \\n\\nothers. \\n\\nTMA Solutions \\nIntern   \\n▪  Successfully completed a rigorous training program, showcasing strong work ethic and \\n\\n               June 2021 – September 2021 \\n      Remote Internship \\n\\ndedication. \\n\\nVietnam National Space Center \\nIntern   \\n▪  Developed attention to detail and problem-solving skills through work on complex projects. \\nEDUCATION  \\n\\n    April 2021 – May 2021 \\n                             Ha Noi \\n\\n                                                    February 2024 - Present  \\n                                                                                   Sydney \\n\\nUniversity of Technology Sydney \\nMaster of Data Science and Innovation \\n▪  Postgraduate Academic Excellence International Scholarship \\n▪  Current GPA: 7.0/7.0 \\nVietnam National University                                                 September 2017 - November 2022  \\nBachelor of Engineering, Space Engineering (Physics Department) \\n               Ho Chi Minh City \\n▪  Various encouragement scholarships. \\n▪  GPA: 3.6/4.0 \\n▪  Worked as teaching assistant in various subjects, showcasing communication and organization \\n\\nabilities. \\n\\nSKILLS & CERTIFICATE \\n\\n▪  Soft Skills: Strong communication, teamwork, leadership, and customer service orientation. \\n▪  Language: Proficient in English (IELTS 7.5). \\n▪  Certification: GRE Verb 164 – Quant 167 – Writing 3.5 \\n\\n \\n \\n \\n \\n \\n \\n \\n \\n \\n \\n \\n \\n \\n \\n \\n \\n \\n \\n \\n \\n \\n \\n \\n \\n \\n \\n \\n \\n \\n \\n \\n \\n      \\n \\n \\n \\n \\n \\n \\n \\n \\n \\n \\n \\n \\n \\n \\n \\n \\n \\n \\n \\n\\x0c',\n",
       " 'Nghia T. Nguyen  \\nntnghia.andrei@gmail.com ❖ (+61) 451-357-872 ❖ Glebe NSW 2037  \\nPROFESSIONAL SUMMARY \\n\\nHard working and detail-oriented student with strong interpersonal and organizational skills, developed through \\nextensive experience in team-oriented roles, client communication and tutoring. Enthusiastic about delivering a \\nfriendly, positive experience for customers in a retail pharmacy setting. \\nWORK EXPERIENCE  \\n\\nSelf-Employed \\nPrivate Tutor \\n▪  Adapt and deliver personalized tutoring sessions to a range of students, from high school to graduate level, \\n\\n       February 2024 – Present \\n                                      Sydney \\n\\nensuring clarity and engagement. \\n\\n▪  Build strong relationships with students and parents by fostering a supportive and approachable learning \\n\\n      February 2022 – December 2023 \\n        Ho Chi Minh City, Vietnam \\n\\nenvironment. \\nTMA Solutions \\nSoftware Engineer \\n▪  Collaborated in a team environment to develop and implement solutions under tight deadlines \\n▪  Communicated technical information clearly and concisely to clients and team members. \\n▪  Mentored junior engineers and interns, fostering teamwork and knowledge sharing. \\n▪  Adapted quickly to client needs, providing solutions to meet their requirements in various projects. \\nTMA Solutions \\nIntern Team Leader \\nManaged project workflow and ensured milestones were achieved on time, demonstrating strong organizational and \\nleadership skills. \\nVietnam National Space Center \\nIntern \\nConducted precise data management and analysis, showcasing accuracy and attention to detail. \\nAn Nhien Apartment  \\nInhouse Maintenance Staff  \\nManaged payment transactions, handled internet connectivity, digital systems, and general apartment operations. \\nLe’s General Store \\nStore Assitant \\nAssisted with inventory management and bookkeeping, gaining experience in daily retail operations. \\nEDUCATION  \\n\\n                                                     2014 – 2017 \\n      Nha Trang, Vietnam \\n\\n                                            2017 – May 2020 \\n      Nha Trang, Vietnam \\n\\n           April 2021 – May 2021 \\n                                    Ha Noi \\n\\n June 2021 – September 2021 \\n\\n        Remote Internship \\n\\n                                                                                February 2024 - Present  \\n                                                              Sydney \\n\\nUniversity of Technology Sydney \\nMaster of Data Science and Innovation \\n▪  Postgraduate Academic Excellence International Scholarship | GPA: 7.0/7.0 \\nInternational University – Vietnam National University    \\nBachelor of Engineering, Space Engineering (Physics Department) \\n▪  Various Encouragement Scholarship | GPA: 3.6/4.0 \\n▪  Teaching Assistant in Physics, Calculus, Linear Algebra, and Programming, enhancing communication and \\n\\n   September 2017 - November 2022  \\n        Ho Chi Minh City, Vietnam \\n\\ninstructional skills. \\n\\nKEY SKILLS  \\n▪  Customer Service Skills: Effective communication, patience, and a client-centered approach to problem-\\n\\nsolving. \\n\\n▪  Teamwork: Experience in collaborative projects and team-based environments. \\n▪  Attention to Detail: Sharp eyes for details, refine through various organization and data management tasks. \\nADDITIONAL QUALIFICATIONS \\nLanguage Proficiency: IELTS (7.5 overall, with Reading 9.0 and Listening 8.5) \\n\\n \\n \\n \\n \\n \\n \\n \\n \\n \\n \\n       \\n \\n \\n \\n \\n \\n \\n \\n \\n \\n \\n \\n \\n \\n \\n \\n \\n \\n \\n \\n \\n \\n \\n \\n \\n \\n \\n \\n \\n \\n \\n \\n \\n \\n \\n \\n \\n \\n \\n \\n \\n     \\n \\n \\n \\n \\n \\n \\n \\n \\n \\n \\n \\n \\n \\n \\n \\n \\n \\n \\n \\n \\n \\n \\n \\n \\n \\n \\n \\n \\n \\n \\n \\n \\n \\n \\n \\n \\n \\n \\n \\n \\n \\n \\n \\n \\n \\n \\n \\n \\n \\n \\n \\n \\n \\n \\n \\n\\x0c',\n",
       " 'Nghia T. Nguyen  \\nntnghia.andrei@gmail.com ❖ ( +61) 451-357-872 ❖ Glebe NSW 2037 \\nPROFESSIONAL SUMMARY \\n\\nDedicated and result-driven educator with a strong foundation in STEM, particularly Artificial Intelligence, software \\ndevelopment, and computer vision. Experienced in personalized tutoring and academic assistance, with a proven \\nability to foster student engagement and success. Currently pursuing a Master of Data Science and Innovation at the \\nUniversity of Technology Sydney, with a perfect academic record. \\nWORK EXPERIENCE  \\n\\nSelf-Employed \\nPrivate Tutor \\n▪  Deliver tailored tutoring sessions for students ranging from high school to postgraduate levels, specializing in \\n\\n       February 2024 – Present \\n                                      Sydney \\n\\nSTEM and programming subjects. \\n\\n▪  Develop customized lesson plans and resources to address individual learning needs and academic goals. \\nTMA Solutions \\nData Scientist \\n▪  Developer: \\n\\n      February 2022 – December 2023 \\n        Ho Chi Minh City, Vietnam \\n\\no  Large Scale Trademark Retrieval: Developed a neural network for large scale trademark retrieval. \\no  CAD Software Plugins: Wrote Python and C# plugins for Fusion 360 and Rhinoceros 3D. \\no  Layout Generation: Implemented a layout generation workflow for an enterprise-grade digital marking \\n\\nsolution. \\n\\n▪  Researcher: \\n\\no  Class-Activation Mapping (CAM) for image localization. \\no  Large scale Image retrieval using Vector of Aggregated Local Descriptors (VLADs) and NetVLAD. \\no  3D reconstruction using Hierarchical Localization. \\n\\n▪  Mentor / Communicator: \\n\\no  Mentor various interns and junior engineers. \\no  Communicate with client on technical feasibility. \\nInternational University, Vietnam National University \\nTeaching Assistant  \\n▪  Assisted in delivering courses in Physics, Calculus, Linear Algebra, and Programming. \\n▪  Conducted review sessions, addressed student inquiries, graded assignments, and supported in-class activities. \\nSelf-Employed \\nPrivate Tutor \\n▪  Provided one-on-one tutoring for high school and undergraduate students in STEM subjects. \\n▪  Designed comprehensive preparation materials for the Vietnam National University Entrance Exam and \\n\\n                         April 2014 – September 2021 \\n                                   Vietnam \\n\\n Feb 2018 – September 2021 \\n        Ho Chi Minh City, Vietnam \\n\\nuniversity assessments. \\n\\nEDUCATION  \\n\\n                                                                                February 2024 - Present  \\n                                                              Sydney \\n\\nUniversity of Technology Sydney \\nMaster of Data Science and Innovation \\n▪  Postgraduate Academic Excellence International Scholarship \\n▪  Current GPA: 7.0/7.0 \\nInternational University – Vietnam National University    \\nBachelor of Engineering, Space Engineering (Physics Department) \\n▪  Various encouragement scholarships. \\n▪  GPA: 3.6/4.0 \\nPUBLICATION, SKILLS & CERTIFICATE \\n▪  Publication: A BERT-Based Model for Cloud Filling from Remote Sensing Data, presented at the 9th NAFOSTED \\n\\n   September 2017 - November 2022  \\n          Ho Chi Minh City \\n\\n \\n \\n \\n \\n \\n \\n \\n \\n \\n \\n       \\n \\n \\n \\n \\n \\n \\n \\n \\n \\n \\n \\n \\n \\n \\n \\n \\n \\n \\n \\n \\n \\n \\n \\n \\n \\n \\n \\n \\n \\n \\n \\n \\n \\n \\n \\n \\n \\n \\n \\n \\n \\n \\n \\n \\n \\n \\n \\n \\n \\n \\n \\n \\n \\n \\n \\n \\n \\n \\n \\n \\n \\n \\n\\x0cConference on Information and Computer Science. \\n\\n▪  Skills:  \\n\\no  Soft Skills: Communication, Teamwork, Leadership, Mentorship and Agile Development. \\no  Technical Skills: Python, C#, C/C++, Design Pattern, Computer Vision, and Natural Language Processing. \\n\\n▪  Certificate: \\n\\no  IELTS: 7.5 (Read 9 – Listening 8.5 – Writing 6.5 – Speaking 6.5) \\no  GRE: Verb 164 – Quant 167 – Writing 3.5 \\n\\n \\n\\x0c']"
      ]
     },
     "execution_count": 1,
     "metadata": {},
     "output_type": "execute_result"
    }
   ],
   "source": [
    "from src.ResumeReader import ResumeReader\n",
    "from pdfminer import high_level\n",
    "\n",
    "path = 'data'\n",
    "algo = high_level\n",
    "vectorizer = ''\n",
    "\n",
    "res_reader = ResumeReader(path, vectorizer, algo)\n",
    "res_reader.get_texts()"
   ]
  },
  {
   "cell_type": "code",
   "execution_count": 2,
   "metadata": {},
   "outputs": [
    {
     "name": "stderr",
     "output_type": "stream",
     "text": [
      "<>:4: SyntaxWarning: invalid escape sequence '\\j'\n",
      "<>:4: SyntaxWarning: invalid escape sequence '\\j'\n",
      "C:\\Users\\ntngh\\AppData\\Local\\Temp\\ipykernel_18840\\1415255818.py:4: SyntaxWarning: invalid escape sequence '\\j'\n",
      "  file_path = 'data\\jobDescription.json'\n"
     ]
    }
   ],
   "source": [
    "from src.JobReader import JobReader\n",
    "import json \n",
    "\n",
    "file_path = 'data\\jobDescription.json'\n",
    "\n",
    "job_reader = JobReader()\n",
    "\n",
    "with open(file_path, 'r') as file:\n",
    "    data = json.load(file)\n",
    "\n",
    "for job in data['job_description']:\n",
    "    job_reader.read(job['content'])"
   ]
  },
  {
   "cell_type": "code",
   "execution_count": 3,
   "metadata": {},
   "outputs": [
    {
     "data": {
      "text/plain": [
       "'data\\\\personal_CV_Data.pdf'"
      ]
     },
     "execution_count": 3,
     "metadata": {},
     "output_type": "execute_result"
    }
   ],
   "source": [
    "from src.VectorRanker import VectorRanker\n",
    "\n",
    "\n",
    "\n",
    "job = job_reader.jobs[0]\n",
    "resume_list = list(zip(res_reader.resumeName, res_reader.resumesContent))\n",
    "\n",
    "ranker = VectorRanker(job, resume_list)\n",
    "ranker.vectorize()\n",
    "ranker.rank()\n",
    "ranker.get_t1_resume()"
   ]
  },
  {
   "cell_type": "code",
   "execution_count": 4,
   "metadata": {},
   "outputs": [
    {
     "data": {
      "text/plain": [
       "array([2, 3, 1, 0])"
      ]
     },
     "execution_count": 4,
     "metadata": {},
     "output_type": "execute_result"
    }
   ],
   "source": [
    "ranker.sorted_indices"
   ]
  },
  {
   "cell_type": "code",
   "execution_count": 5,
   "metadata": {},
   "outputs": [
    {
     "data": {
      "text/plain": [
       "'data\\\\personal_CV_Data.pdf'"
      ]
     },
     "execution_count": 5,
     "metadata": {},
     "output_type": "execute_result"
    }
   ],
   "source": [
    "list(zip(res_reader.resumeName, res_reader.resumesContent))[0][0]"
   ]
  }
 ],
 "metadata": {
  "kernelspec": {
   "display_name": ".venv",
   "language": "python",
   "name": "python3"
  },
  "language_info": {
   "codemirror_mode": {
    "name": "ipython",
    "version": 3
   },
   "file_extension": ".py",
   "mimetype": "text/x-python",
   "name": "python",
   "nbconvert_exporter": "python",
   "pygments_lexer": "ipython3",
   "version": "3.12.5"
  }
 },
 "nbformat": 4,
 "nbformat_minor": 2
}
